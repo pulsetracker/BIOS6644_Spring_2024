{
 "cells": [
  {
   "cell_type": "code",
   "execution_count": null,
   "metadata": {},
   "outputs": [],
   "source": [
    "##########################################################################################\n",
    "#                                                                                        #\n",
    "#  888888b.  8888888 .d88888b.   .d8888b.     .d8888b.   .d8888b.      d8888      d8888  #\n",
    "#  888  \"88b   888  d88P\" \"Y88b d88P  Y88b   d88P  Y88b d88P  Y88b    d8P888     d8P888  #\n",
    "#  888  .88P   888  888     888 Y88b.        888        888          d8P 888    d8P 888  #\n",
    "#  8888888K.   888  888     888  \"Y888b.     888d888b.  888d888b.   d8P  888   d8P  888  #\n",
    "#  888  \"Y88b  888  888     888     \"Y88b.   888P \"Y88b 888P \"Y88b d88   888  d88   888  #\n",
    "#  888    888  888  888     888       \"888   888    888 888    888 8888888888 8888888888 #\n",
    "#  888   d88P  888  Y88b. .d88P Y88b  d88P   Y88b  d88P Y88b  d88P       888        888  #\n",
    "#  8888888P\" 8888888 \"Y88888P\"   \"Y8888P\"     \"Y8888P\"   \"Y8888P\"        888        888  #\n",
    "#                                                                                        # \n",
    "##########################################################################################\n",
    "#\n",
    "# Slicing and Parsing\n",
    "#\n",
    "##########################################################################################"
   ]
  },
  {
   "cell_type": "code",
   "execution_count": null,
   "metadata": {},
   "outputs": [],
   "source": []
  },
  {
   "cell_type": "code",
   "execution_count": null,
   "metadata": {},
   "outputs": [],
   "source": [
    "##########################################################################################\n",
    "#                                                                                        #\n",
    "#  888888b.  8888888 .d88888b.   .d8888b.     .d8888b.   .d8888b.      d8888      d8888  #\n",
    "#  888  \"88b   888  d88P\" \"Y88b d88P  Y88b   d88P  Y88b d88P  Y88b    d8P888     d8P888  #\n",
    "#  888  .88P   888  888     888 Y88b.        888        888          d8P 888    d8P 888  #\n",
    "#  8888888K.   888  888     888  \"Y888b.     888d888b.  888d888b.   d8P  888   d8P  888  #\n",
    "#  888  \"Y88b  888  888     888     \"Y88b.   888P \"Y88b 888P \"Y88b d88   888  d88   888  #\n",
    "#  888    888  888  888     888       \"888   888    888 888    888 8888888888 8888888888 #\n",
    "#  888   d88P  888  Y88b. .d88P Y88b  d88P   Y88b  d88P Y88b  d88P       888        888  #\n",
    "#  8888888P\" 8888888 \"Y88888P\"   \"Y8888P\"     \"Y8888P\"   \"Y8888P\"        888        888  #\n",
    "#                                                                                        # \n",
    "##########################################################################################\n",
    "#\n",
    "# Slicing and Parsing\n",
    "#\n",
    "##########################################################################################"
   ]
  },
  {
   "cell_type": "code",
   "execution_count": null,
   "metadata": {},
   "outputs": [],
   "source": [
    "##################################################################################################################\n",
    "#\n",
    "# YouDo:\n",
    "#    1) Make a copy of this notebook with your name as a suffix:  \n",
    "#       BIOS6644_CSV_Sugar_Metabolomics_FirstLast.ipynb\n",
    "#    2) Do all work in this new notebook.\n",
    "#    3) Place completed work in students/Module_1/Your_Name\n",
    "#    4) Push to your branch on GitHub to submit\n",
    "#\n",
    "##################################################################################################################\n"
   ]
  },
  {
   "cell_type": "markdown",
   "metadata": {},
   "source": [
    "# Wrangling Sugar Metabolomics Data\n"
   ]
  },
  {
   "cell_type": "code",
   "execution_count": null,
   "metadata": {},
   "outputs": [],
   "source": [
    "\n",
    "import pandas as pd\n",
    "import pylab as plt\n",
    "import numpy as np\n",
    "%matplotlib notebook"
   ]
  },
  {
   "cell_type": "code",
   "execution_count": null,
   "metadata": {},
   "outputs": [],
   "source": [
    "\n",
    "\n",
    "# General info here:\n",
    "#   https://data.mendeley.com/datasets/9z7ncwvxnz/1\n",
    "#\n",
    "# Data here:\n",
    "#   https://prod-dcd-datasets-cache-zipfiles.s3.eu-west-1.amazonaws.com/9z7ncwvxnz-1.zip\n",
    "\n",
    "# I renamed mine to \"sugar_metabolomics.csv\" so I could remember what it is\n",
    "data = '../Data/sugar_metabolomics.csv'\n"
   ]
  },
  {
   "cell_type": "code",
   "execution_count": null,
   "metadata": {},
   "outputs": [],
   "source": []
  },
  {
   "cell_type": "markdown",
   "metadata": {},
   "source": []
  },
  {
   "cell_type": "markdown",
   "metadata": {},
   "source": []
  },
  {
   "cell_type": "code",
   "execution_count": null,
   "metadata": {},
   "outputs": [],
   "source": [
    "##################################################################################################################\n",
    "#\n",
    "# YouDo:\n",
    "# \n",
    "#    1) Read the csv into a dataframe called df\n",
    "#######################################  BEGIN STUDENT CODE  #####################################################\n",
    "\n",
    "# 1) \n",
    "\n",
    "#######################################   END STUDENT CODE   #####################################################\n",
    "\n",
    "\n",
    "df"
   ]
  },
  {
   "cell_type": "code",
   "execution_count": null,
   "metadata": {},
   "outputs": [],
   "source": [
    "##################################################################################################################\n",
    "#\n",
    "# YouDo:\n",
    "# \n",
    "#    1) Notice that the import is wonky -- examine the data set\n",
    "#       manually and figure out how to make it import cleanly.\n",
    "#      \n",
    "#       Ensure your data frame has the following handled correctly\n",
    "#         a) the column names (1st row of the csv)\n",
    "#.        b) The unlabeled first column is read as an index\n",
    "#         c) The final row is totally weird--don't import it\n",
    "#\n",
    "#       (hint: pd.read_csv? lists various import options)\n",
    "#\n",
    "#######################################  BEGIN STUDENT CODE  #####################################################\n",
    "\n",
    "# 1)\n",
    "\n",
    "\n",
    "\n",
    "#######################################   END STUDENT CODE   #####################################################\n",
    "assert df.shape == (92, 132)"
   ]
  },
  {
   "cell_type": "code",
   "execution_count": null,
   "metadata": {},
   "outputs": [],
   "source": [
    "##################################################################################################################\n",
    "#\n",
    "# YouDo:\n",
    "# \n",
    "#    1) Get rid of any columns that have only NaN values\n",
    "# https://pandas.pydata.org/pandas-docs/stable/reference/api/pandas.DataFrame.dropna.html\n",
    "#\n",
    "#######################################  BEGIN STUDENT CODE  #####################################################\n",
    "\n",
    "\n",
    "\n",
    "#######################################   END STUDENT CODE   #####################################################\n",
    "\n",
    "assert df.shape == (92, 125)\n",
    "\n",
    "\n",
    "\n"
   ]
  },
  {
   "cell_type": "code",
   "execution_count": null,
   "metadata": {},
   "outputs": [],
   "source": [
    "##################################################################################################################\n",
    "#\n",
    "# YouDo:\n",
    "# \n",
    "#    1) Generate boxplots of Tryptophan levels separated based on \n",
    "#        the \"Label\" value\n",
    "#\n",
    "#      Use whatever plotting library you like.   \n",
    "#      Hint 1: matplotlib has a boxplot tool\n",
    "#          help(plt.boxplot)\n",
    "#      Hint 2: pandas data frames have a built-in boxplot tool\n",
    "#          help(df.boxplot)\n",
    "#\n",
    "#######################################  BEGIN STUDENT CODE  #####################################################\n",
    "\n",
    "\n",
    "#######################################   END STUDENT CODE   #####################################################\n"
   ]
  },
  {
   "cell_type": "code",
   "execution_count": null,
   "metadata": {},
   "outputs": [],
   "source": [
    "##################################################################################################################\n",
    "#\n",
    "# YouDo:\n",
    "# Make a pair of plots as follows:\n",
    "#    1) Show the correlation matrix between columns of the data\n",
    "#        (hint 1: it should be 124x124, hint 2: check out plt.imshow() \n",
    "#         Hint 2: numpy has a function for generating the correlation matrix)\n",
    "#\n",
    "#    2) Make a similar plot showing correlation > 90%\n",
    "#\n",
    "#  Stretch goal:  using plt.subplot()  make a single figure with both plots side-by-side\n",
    "#\n",
    "#######################################  BEGIN STUDENT CODE  #####################################################\n",
    "\n",
    "\n",
    "\n",
    "#######################################   END STUDENT CODE   #####################################################\n"
   ]
  },
  {
   "cell_type": "markdown",
   "metadata": {},
   "source": []
  },
  {
   "cell_type": "code",
   "execution_count": null,
   "metadata": {},
   "outputs": [],
   "source": [
    "##################################################################################################################\n",
    "#\n",
    "# YouDo:\n",
    "#  1) Remove any rows with na values\n",
    "# \n",
    "#  2) Split the data into \"test\" and \"train\" bits with ~30% in the test set.\n",
    "#       The \"Label\" column is the \"y\" data.  All other columns are the \"X\" data\n",
    "#       Give them these names:\n",
    "#       X_train, X_test, y_train, y_test\n",
    "\n",
    "#######################################  BEGIN STUDENT CODE  #####################################################\n",
    "\n",
    "# 1)\n",
    "\n",
    "\n",
    " \n",
    "#2)\n",
    "\n",
    "#######################################   END STUDENT CODE   #####################################################\n"
   ]
  },
  {
   "cell_type": "code",
   "execution_count": null,
   "metadata": {},
   "outputs": [
    {
     "data": {
      "text/plain": [
       "RandomForestClassifier(bootstrap=True, class_weight=None, criterion='gini',\n",
       "                       max_depth=2, max_features='auto', max_leaf_nodes=None,\n",
       "                       min_impurity_decrease=0.0, min_impurity_split=None,\n",
       "                       min_samples_leaf=1, min_samples_split=2,\n",
       "                       min_weight_fraction_leaf=0.0, n_estimators=100,\n",
       "                       n_jobs=None, oob_score=False, random_state=8675309,\n",
       "                       verbose=0, warm_start=False)"
      ]
     },
     "metadata": {},
     "output_type": "display_data"
    }
   ],
   "source": [
    "#Build a model to classify the Label based on the other columns\n",
    "\n",
    "from sklearn.ensemble import RandomForestClassifier\n",
    "clf = RandomForestClassifier(n_estimators=100, max_depth=2, random_state=8675309)\n",
    "clf.fit(X_train, y_train)\n"
   ]
  },
  {
   "cell_type": "code",
   "execution_count": null,
   "metadata": {},
   "outputs": [],
   "source": [
    "# Test the model\n",
    "predictions = clf.predict(X_test)\n",
    "reality = y_test"
   ]
  },
  {
   "cell_type": "code",
   "execution_count": null,
   "metadata": {},
   "outputs": [
    {
     "data": {
      "text/plain": [
       "0.8125"
      ]
     },
     "metadata": {},
     "output_type": "display_data"
    }
   ],
   "source": [
    "# YouDo:\n",
    "#  1) Evaluate the \"goodness\" of the predictions and write a paragraph describing the results as a markdown.\n",
    "#\n",
    "#######################################  BEGIN STUDENT CODE  #####################################################\n",
    "\n",
    "\n",
    "#######################################   END STUDENT CODE   #####################################################\n"
   ]
  },
  {
   "cell_type": "markdown",
   "metadata": {},
   "source": [
    "# Analysis\n",
    "It goes here."
   ]
  },
  {
   "cell_type": "code",
   "execution_count": null,
   "metadata": {},
   "outputs": [],
   "source": []
  }
 ],
 "metadata": {
  "language_info": {
   "name": "python"
  }
 },
 "nbformat": 4,
 "nbformat_minor": 2
}
