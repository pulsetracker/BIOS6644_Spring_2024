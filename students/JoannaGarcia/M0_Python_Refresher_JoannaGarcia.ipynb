{
 "cells": [
  {
   "cell_type": "code",
   "execution_count": 3,
   "metadata": {},
   "outputs": [
    {
     "data": {
      "text/plain": [
       "4"
      ]
     },
     "execution_count": 3,
     "metadata": {},
     "output_type": "execute_result"
    }
   ],
   "source": [
    "##########################################################################################\n",
    "#                                                                                        #\n",
    "#  888888b.  8888888 .d88888b.   .d8888b.     .d8888b.   .d8888b.      d8888      d8888  #\n",
    "#  888  \"88b   888  d88P\" \"Y88b d88P  Y88b   d88P  Y88b d88P  Y88b    d8P888     d8P888  #\n",
    "#  888  .88P   888  888     888 Y88b.        888        888          d8P 888    d8P 888  #\n",
    "#  8888888K.   888  888     888  \"Y888b.     888d888b.  888d888b.   d8P  888   d8P  888  #\n",
    "#  888  \"Y88b  888  888     888     \"Y88b.   888P \"Y88b 888P \"Y88b d88   888  d88   888  #\n",
    "#  888    888  888  888     888       \"888   888    888 888    888 8888888888 8888888888 #\n",
    "#  888   d88P  888  Y88b. .d88P Y88b  d88P   Y88b  d88P Y88b  d88P       888        888  #\n",
    "#  8888888P\" 8888888 \"Y88888P\"   \"Y8888P\"     \"Y8888P\"   \"Y8888P\"        888        888  #\n",
    "#                                                                                        # \n",
    "##########################################################################################\n",
    "#\n",
    "# Python Refresher\n",
    "#\n",
    "##########################################################################################"
   ]
  },
  {
   "cell_type": "code",
   "execution_count": null,
   "metadata": {},
   "outputs": [],
   "source": [
    "##################################################################################################################\n",
    "#\n",
    "# YouDo:\n",
    "#    1) Make a copy of this notebook with your name as a suffix:  \n",
    "#           M0_Python_Refresher_FirstLast\n",
    "#    2) Put it in your folder undr students\n",
    "#    3) Ensure you are in your branch in git \n",
    "#    2) Do all work in this new notebook.\n",
    "#\n",
    "##################################################################################################################"
   ]
  },
  {
   "cell_type": "markdown",
   "metadata": {},
   "source": [
    "# Python Refresher\n",
    "\n",
    "## Basic Data Structures\n",
    "\n",
    "The most basic \"thing\" in python is called an \"object\".  Basically anything you imagine as \"data\" would be represented by some number of Python objects.   Python provides several \"built-in object types\", like _integers_ and _strings_, which are useful for storing and manipulating various data.\n",
    "\n",
    "\n",
    "The following table lists the fundamental Python object types.\n",
    "\n",
    "| Type Abbreviation  | Type Full Name| Notes |\n",
    "| ------------- | ------------- |-------------| \n",
    "| str | string  | Text |\n",
    "| int | integer | Decimal-free numbers |\n",
    "| float | Floating point Number | A decimal number |\n",
    "| bool | Boolean | Can be either True or False |\n",
    "| list | List | An indexed, ordered, collection of other types |\n",
    "| dict| Dictionary | A 1-to-1 lookup table |\n",
    "| set | Set | As in set-theory.  A collection of unique objects  |\n",
    "\n",
    "\n",
    "The following cells show how to create objects of different types."
   ]
  },
  {
   "cell_type": "markdown",
   "metadata": {},
   "source": [
    "## Strings"
   ]
  },
  {
   "cell_type": "code",
   "execution_count": 1,
   "metadata": {},
   "outputs": [
    {
     "name": "stdout",
     "output_type": "stream",
     "text": [
      "This is a string\n",
      "Double-quotes and single-quotes are equivalent\n",
      "This kind can span \n",
      "        many lines\n"
     ]
    }
   ],
   "source": [
    "# Strings are surrounded by quotes\n",
    "\n",
    "s1 = 'This is a string'\n",
    "s2 = \"Double-quotes and single-quotes are equivalent\"\n",
    "s3 = '''This kind can span \n",
    "        many lines'''\n",
    "\n",
    "print(s1)\n",
    "print(s2) \n",
    "print(s3)\n",
    "\n"
   ]
  },
  {
   "cell_type": "code",
   "execution_count": 2,
   "metadata": {},
   "outputs": [
    {
     "name": "stdout",
     "output_type": "stream",
     "text": [
      "Luke. I am your father.\n",
      "Luke. I am your father.\n"
     ]
    }
   ],
   "source": [
    "# Adding strings contatenates them together\n",
    "\n",
    "L1 = 'Luke. '\n",
    "L2 = 'I am your father.'\n",
    "print(L1+L2)\n",
    "\n",
    "LAdd = L1 + L2\n",
    "\n",
    "print(LAdd)"
   ]
  },
  {
   "cell_type": "code",
   "execution_count": 18,
   "metadata": {},
   "outputs": [
    {
     "name": "stdout",
     "output_type": "stream",
     "text": [
      "99 bottles of beer on the wall\n",
      "\t99 bottles of beer\n",
      "you take one down, pass it around\n",
      "\t99 bottles of beer on the wall\n"
     ]
    }
   ],
   "source": [
    "B0 = '99'\n",
    "B1 = '98'\n",
    "B2 = ' bottles of beer'\n",
    "B3 = ' on the wall'\n",
    "B4 = 'you take one down, pass it around'\n",
    "\n",
    "print(B0+B2+B3)\n",
    "print('\\t'+B0+B2)           # '\\t' is a tab character\n",
    "print(B4+'\\n'+'\\t'+B0+B2+B3)# '\\n' is a newline character"
   ]
  },
  {
   "cell_type": "code",
   "execution_count": null,
   "metadata": {},
   "outputs": [],
   "source": [
    "##################################################################################################################\n",
    "# YouDo\n",
    "# In a similar pattern to the cell above, make a set of print statements \n",
    "# which makes the next verse of that song.\n",
    "# \n",
    "# In case you didn't grow up in North America:\n",
    "#   https://en.wikipedia.org/wiki/99_Bottles_of_Beer\n",
    "#\n",
    "##################################################################################################################\n",
    "#######################################  BEGIN STUDENT CODE  #####################################################\n",
    "\n",
    "\n",
    "\n",
    "#######################################   END STUDENT CODE   #####################################################\n",
    "\n"
   ]
  },
  {
   "cell_type": "markdown",
   "metadata": {},
   "source": [
    "## Integers"
   ]
  },
  {
   "cell_type": "code",
   "execution_count": 22,
   "metadata": {},
   "outputs": [
    {
     "name": "stdout",
     "output_type": "stream",
     "text": [
      "3 3 3\n"
     ]
    }
   ],
   "source": [
    "A = 3        # type is inferred by lack of decimal point\n",
    "B = int(3)   # explicitly typed\n",
    "C = int('3') # Casting a numeral/string 3, to the integer value of 3\n",
    "\n",
    "print(A, B, C)"
   ]
  },
  {
   "cell_type": "code",
   "execution_count": 8,
   "metadata": {},
   "outputs": [
    {
     "name": "stdout",
     "output_type": "stream",
     "text": [
      "12\n"
     ]
    }
   ],
   "source": [
    "##################################################################################################################\n",
    "#\n",
    "# YouDo:\n",
    "#    1) In the code below, fix the 3rd term so it computes and prints the integer 12 as the answer\n",
    "#\n",
    "##################################################################################################################\n",
    "#######################################  BEGIN STUDENT CODE  #####################################################\n",
    "\n",
    "two = 2\n",
    "three = 3\n",
    "\n",
    "answer = two * three + '2' * three\n",
    "print(answer)\n",
    "\n",
    "\n",
    "#######################################   END STUDENT CODE   #####################################################\n"
   ]
  },
  {
   "cell_type": "markdown",
   "metadata": {},
   "source": [
    "## Floats"
   ]
  },
  {
   "cell_type": "code",
   "execution_count": 41,
   "metadata": {},
   "outputs": [
    {
     "name": "stdout",
     "output_type": "stream",
     "text": [
      "F0:  3 <class 'int'>\n",
      "F1:  3.0 <class 'float'>\n",
      "F2:  3.0 <class 'float'>\n",
      "F3:  3.0 <class 'float'>\n",
      "F4:  3.0 <class 'float'>\n",
      "F5:  3.0 <class 'float'>\n",
      "F6:  inf <class 'float'>\n",
      "F7:  nan <class 'float'>\n"
     ]
    }
   ],
   "source": [
    "# The type() function will tell you what type a data object is\n",
    "\n",
    "F0 = 3           # Not a float!\n",
    "print('F0: ', F0, type(F0))\n",
    "\n",
    "F1 = float(3)    # Cast to a float!\n",
    "print('F1: ', F1, type(F1))\n",
    "\n",
    "F2 = 3 + 0.0     # Added to a float\n",
    "print('F2: ', F2, type(F2))\n",
    "\n",
    "F3 = 3.         # A dot on the end makes it a float\n",
    "print('F3: ', F3, type(F3))\n",
    "\n",
    "F4 = 3.000      # So does adding decimapl places\n",
    "print('F4: ', F4, type(F4))\n",
    "\n",
    "F5 = 1e6-999997 # Scientific notation is a float as well\n",
    "print('F5: ', F5, type(F5))\n",
    "\n",
    "F6 = float('inf') # infinity is a float\n",
    "print('F6: ', F6, type(F6))\n",
    "#print(F6 + 1)\n",
    "\n",
    "F7 = float('NaN') # not a number (nan) is a float, too\n",
    "print('F7: ', F7, type(F7))"
   ]
  },
  {
   "cell_type": "code",
   "execution_count": 11,
   "metadata": {},
   "outputs": [
    {
     "name": "stdout",
     "output_type": "stream",
     "text": [
      "My answer is:  9  of type  <class 'int'>\n"
     ]
    }
   ],
   "source": [
    "##################################################################################################################\n",
    "#\n",
    "# YouDo:\n",
    "#    1) Fix the code below so it computes and prints 9.0 (a float) as the answer\n",
    "#       Hint:  I can do it by adding a single character\n",
    "#\n",
    "##################################################################################################################\n",
    "#######################################  BEGIN STUDENT CODE  #####################################################\n",
    "\n",
    "two = 2\n",
    "three = 3\n",
    "\n",
    "answer = two * three + three\n",
    "print('My answer is: ', answer, ' of type ', type(answer))\n",
    "\n",
    "\n",
    "\n",
    "\n",
    "#######################################   END STUDENT CODE   #####################################################\n"
   ]
  },
  {
   "cell_type": "markdown",
   "metadata": {},
   "source": [
    "## Booleans"
   ]
  },
  {
   "cell_type": "code",
   "execution_count": 50,
   "metadata": {},
   "outputs": [
    {
     "name": "stdout",
     "output_type": "stream",
     "text": [
      "True False\n"
     ]
    }
   ],
   "source": [
    "N1 = True   # Equivalent to 1 in some contexts\n",
    "N2 = False  # Equivalent to 0 in some contexts\n",
    "\n",
    "print(N1, N2)\n"
   ]
  },
  {
   "cell_type": "code",
   "execution_count": 62,
   "metadata": {},
   "outputs": [
    {
     "name": "stdout",
     "output_type": "stream",
     "text": [
      "True AND False = False\n",
      "False\n",
      "\n",
      "True OR False = True\n",
      "True\n"
     ]
    }
   ],
   "source": [
    "print('True AND False = False')\n",
    "print(N1 & N2) # You can do logic operations on booleans\n",
    "\n",
    "print('\\nTrue OR False = True')\n",
    "print(N1 | N2) # You can do logic operations on booleans"
   ]
  },
  {
   "cell_type": "code",
   "execution_count": 18,
   "metadata": {},
   "outputs": [
    {
     "name": "stdout",
     "output_type": "stream",
     "text": [
      "The list has 4 True values\n",
      "The list is 80.0% True values\n"
     ]
    }
   ],
   "source": [
    "# If you add bools, they behave like integers\n",
    "somebools=[True, True, True, False, True]\n",
    "\n",
    "print(f'The list has {sum(somebools)} True values')\n",
    "print(f'The list is {sum(somebools)/len(somebools)*100}% True values')"
   ]
  },
  {
   "cell_type": "markdown",
   "metadata": {},
   "source": [
    "## Lists"
   ]
  },
  {
   "cell_type": "code",
   "execution_count": 20,
   "metadata": {},
   "outputs": [
    {
     "name": "stdout",
     "output_type": "stream",
     "text": [
      "3\n",
      "[True, 2, 3, 4, 'five', 'I am new thing']\n"
     ]
    }
   ],
   "source": [
    "darf = [True,2,3,4,'five'] # Lists hold stuff\n",
    "\n",
    "print(darf[2])  # brackets read a value out (counting starts at zero)\n",
    "\n",
    "# Use .append(newthing) to add a newthing to the list\n",
    "darf.append(\"I am new thing\")\n",
    "\n",
    "print(darf)\n"
   ]
  },
  {
   "cell_type": "code",
   "execution_count": 21,
   "metadata": {},
   "outputs": [
    {
     "name": "stdout",
     "output_type": "stream",
     "text": [
      "[4, 'five']\n"
     ]
    }
   ],
   "source": [
    "# You can get a \"slice\" (subset) of list items with a colon:\n",
    "\n",
    "print(darf[3:5]) # Get objects 3 and 4 (doens't include the last one)\n"
   ]
  },
  {
   "cell_type": "code",
   "execution_count": 32,
   "metadata": {},
   "outputs": [
    {
     "name": "stdout",
     "output_type": "stream",
     "text": [
      "Original worklist: [0, 2, 4, 6, 8, 10, 12, 14, 16, 18, 20, 22, 24, 26, 28, 30, 32, 34, 36, 38, 40, 42, 44, 46, 48]\n",
      "Thirties Subset: [0, 2, 4, 6]\n"
     ]
    }
   ],
   "source": [
    "##################################################################################################################\n",
    "#\n",
    "# YouDo:\n",
    "#    1) print the slice of worklist which contains all the items which begin with 3 and no other itemts\n",
    "#       [30, 32, ..., 38]\n",
    "#\n",
    "##################################################################################################################\n",
    "\n",
    "worklist = list(range(0,50,2))\n",
    "print(f'Original worklist: {worklist}')\n",
    "\n",
    "#######################################  BEGIN STUDENT CODE  #####################################################\n",
    "\n",
    "myslice = worklist[0:4]\n",
    "\n",
    "print(f'Thirties Subset: {myslice}')\n",
    "\n",
    "\n",
    "\n",
    "#######################################   END STUDENT CODE   #####################################################\n"
   ]
  },
  {
   "cell_type": "markdown",
   "metadata": {},
   "source": [
    "# Dictionaries"
   ]
  },
  {
   "cell_type": "code",
   "execution_count": 37,
   "metadata": {},
   "outputs": [
    {
     "data": {
      "text/plain": [
       "{'AllMonths': ['January', 'February', 'March'],\n",
       " 'Jan': 'January',\n",
       " 'jan': 'January',\n",
       " 'JAN': 'January',\n",
       " 'jan.': 'January',\n",
       " 'Feb': 'February',\n",
       " 'Mar': 'March'}"
      ]
     },
     "execution_count": 37,
     "metadata": {},
     "output_type": "execute_result"
    }
   ],
   "source": [
    "# Dictionaries are a key-based map of objects.   \n",
    "\n",
    "dex = dict()\n",
    "dex['AllMonths']=['January', 'February', 'March']\n",
    "dex['Jan']='January'\n",
    "dex['jan']='January'\n",
    "dex['JAN']='January'\n",
    "dex['jan.']='January'\n",
    "dex['Feb']='February'\n",
    "dex['Mar']='March'\n",
    "dex"
   ]
  },
  {
   "cell_type": "code",
   "execution_count": 44,
   "metadata": {},
   "outputs": [
    {
     "name": "stdout",
     "output_type": "stream",
     "text": [
      "I was not born in Jan\n",
      "I was not born in January\n",
      "I was not born in ['January', 'February', 'March']\n"
     ]
    }
   ],
   "source": [
    "# You can use them to make a lookup table\n",
    "\n",
    "print(f'I was not born in Jan')\n",
    "print(f\"I was not born in {dex['Jan']}\")\n",
    "print(f\"I was not born in {dex['AllMonths']}\")"
   ]
  },
  {
   "cell_type": "code",
   "execution_count": null,
   "metadata": {},
   "outputs": [],
   "source": [
    "##################################################################################################################\n",
    "#\n",
    "# YouDo:\n",
    "#    1) print the slice of worklist which contains all the items which begin with 3 and no other itemts\n",
    "#       [30, 32, ..., 38]\n",
    "#\n",
    "##################################################################################################################\n",
    "\n",
    "worklist = list(range(0,50,2))\n",
    "print(f'Original worklist: {worklist}')\n",
    "\n",
    "#######################################  BEGIN STUDENT CODE  #####################################################\n",
    "\n",
    "myslice = worklist[0:4]\n",
    "\n",
    "print(f'Thirties Subset: {myslice}')\n",
    "\n",
    "\n",
    "\n",
    "#######################################   END STUDENT CODE   #####################################################\n"
   ]
  },
  {
   "cell_type": "code",
   "execution_count": null,
   "metadata": {},
   "outputs": [],
   "source": [
    "## Very Useful Libraries\n",
    "\n",
    "### Numerical Python (numpy)\n",
    "### Regular Expressions (re)\n",
    "### Scientific Python (scipy)\n",
    "    #### Statsmodels\n",
    "    #### Statistics\n",
    "    #### Signals\n",
    "    ### Sci-Kit Learn (sklearn"
   ]
  },
  {
   "cell_type": "code",
   "execution_count": 57,
   "metadata": {},
   "outputs": [],
   "source": [
    "### Pandas"
   ]
  },
  {
   "cell_type": "code",
   "execution_count": null,
   "metadata": {},
   "outputs": [],
   "source": [
    "##################################################################################################################\n",
    "#\n",
    "# YouDo:\n",
    "#    1) Print the first, \"header\" row of the data set\n",
    "#    2) Print lines 37-40 of the actual data\n",
    "#\n",
    "##################################################################################################################\n",
    "#######################################  BEGIN STUDENT CODE  #####################################################\n",
    "\n",
    "# 1) \n",
    "#print(lines[0])\n",
    "# 2) \n",
    "\n",
    "print(lines[37:41])\n",
    "#######################################   END STUDENT CODE   #####################################################\n"
   ]
  }
 ],
 "metadata": {
  "kernelspec": {
   "display_name": "Python 3",
   "language": "python",
   "name": "python3"
  },
  "language_info": {
   "codemirror_mode": {
    "name": "ipython",
    "version": 3
   },
   "file_extension": ".py",
   "mimetype": "text/x-python",
   "name": "python",
   "nbconvert_exporter": "python",
   "pygments_lexer": "ipython3",
   "version": "3.12.1"
  }
 },
 "nbformat": 4,
 "nbformat_minor": 2
}
