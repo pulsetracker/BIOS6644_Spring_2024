{
 "cells": [
  {
   "cell_type": "code",
   "execution_count": 6,
   "id": "13127677-bb2c-4800-930f-fb289b97b82f",
   "metadata": {},
   "outputs": [
    {
     "name": "stdout",
     "output_type": "stream",
     "text": [
      "98 bottles of beer on the wall\n",
      "\t98 bottles of beer\n",
      "you take one down, pass it around\n",
      "\t97 bottles of beer on the wall\n"
     ]
    }
   ],
   "source": [
    "##################################################################################################################\n",
    "# YouDo\n",
    "# In a similar pattern to the cell above, make a set of print statements \n",
    "# which makes the next verse of that song.\n",
    "# \n",
    "# In case you didn't grow up in North America:\n",
    "#   https://en.wikipedia.org/wiki/99_Bottles_of_Beer\n",
    "#\n",
    "##################################################################################################################\n",
    "#######################################  BEGIN STUDENT CODE  #####################################################\n",
    "\n",
    "B0= '98'\n",
    "B1= '97'\n",
    "B2= ' bottles of beer'\n",
    "B3= ' on the wall'\n",
    "B4= 'you take one down, pass it around'\n",
    "\n",
    "print(B0+B2+B3)\n",
    "print('\\t'+B0+B2)\n",
    "print(B4+'\\n'+'\\t'+B1+B2+B3)\n",
    "\n",
    "\n",
    "\n",
    "#######################################   END STUDENT CODE   #####################################################\n"
   ]
  },
  {
   "cell_type": "code",
   "execution_count": 2,
   "id": "eb681c85-e80a-4b87-8e7a-20f269f4180c",
   "metadata": {},
   "outputs": [
    {
     "name": "stdout",
     "output_type": "stream",
     "text": [
      "12\n"
     ]
    }
   ],
   "source": [
    "##################################################################################################################\n",
    "#\n",
    "# YouDo:\n",
    "#    1) In the code below, fix the 3rd term so it computes and prints the integer 12 as the answer\n",
    "#\n",
    "##################################################################################################################\n",
    "#######################################  BEGIN STUDENT CODE  #####################################################\n",
    "\n",
    "two = 2\n",
    "three = 3\n",
    "\n",
    "answer = two * three + two * three\n",
    "print(answer)\n",
    "\n",
    "\n",
    "#######################################   END STUDENT CODE   ##################\n"
   ]
  },
  {
   "cell_type": "code",
   "execution_count": 4,
   "id": "8e85bb19-89c0-4963-9036-64ed876e0f9b",
   "metadata": {},
   "outputs": [
    {
     "name": "stdout",
     "output_type": "stream",
     "text": [
      "My answer is:  9.0  of type  <class 'float'>\n"
     ]
    }
   ],
   "source": [
    "##################################################################################################################\n",
    "#\n",
    "# YouDo:\n",
    "#    1) Fix the code below so it computes and prints 9.0 (a float) as the answer\n",
    "#       Hint:  I can do it by adding a single character\n",
    "#\n",
    "##################################################################################################################\n",
    "#######################################  BEGIN STUDENT CODE  #####################################################\n",
    "\n",
    "two = 2.\n",
    "three = 3\n",
    "\n",
    "answer = two * three + three\n",
    "print('My answer is: ', answer, ' of type ', type(answer))\n",
    "\n",
    "\n",
    "\n",
    "\n",
    "#######################################   END STUDENT CODE   ##########"
   ]
  },
  {
   "cell_type": "code",
   "execution_count": 6,
   "id": "9eb6da7f-e73d-476a-8631-545e7d4314b5",
   "metadata": {},
   "outputs": [
    {
     "ename": "SyntaxError",
     "evalue": "unterminated string literal (detected at line 16) (667084901.py, line 16)",
     "output_type": "error",
     "traceback": [
      "\u001b[0;36m  Cell \u001b[0;32mIn[6], line 16\u001b[0;36m\u001b[0m\n\u001b[0;31m    print(f'Thirties Subset: {myslice})\u001b[0m\n\u001b[0m          ^\u001b[0m\n\u001b[0;31mSyntaxError\u001b[0m\u001b[0;31m:\u001b[0m unterminated string literal (detected at line 16)\n"
     ]
    }
   ],
   "source": [
    "##################################################################################################################\n",
    "#\n",
    "# YouDo:\n",
    "#    1) print the slice of worklist which contains all the items which begin with 3 and no other itemts\n",
    "#       [30, 32, ..., 38]\n",
    "#\n",
    "##################################################################################################################\n",
    "\n",
    "worklist = list(range(0,50,2))\n",
    "print(f'Original worklist: {worklist}')\n",
    "\n",
    "#######################################  BEGIN STUDENT CODE  #####################################################\n",
    "\n",
    "myslice = worklist[0:4]\n",
    "\n",
    "print(f'Thirties Subset: {myslice})\n",
    "\n",
    "\n",
    "\n",
    "#######################################   END STUDENT CODE   #######"
   ]
  },
  {
   "cell_type": "code",
   "execution_count": 8,
   "id": "02bc99a7-8d6b-44f4-9a05-e992044d18d4",
   "metadata": {},
   "outputs": [
    {
     "ename": "SyntaxError",
     "evalue": "unterminated string literal (detected at line 16) (1557012716.py, line 16)",
     "output_type": "error",
     "traceback": [
      "\u001b[0;36m  Cell \u001b[0;32mIn[8], line 16\u001b[0;36m\u001b[0m\n\u001b[0;31m    print(f'Thirties Subset: {myslice})\u001b[0m\n\u001b[0m          ^\u001b[0m\n\u001b[0;31mSyntaxError\u001b[0m\u001b[0;31m:\u001b[0m unterminated string literal (detected at line 16)\n"
     ]
    }
   ],
   "source": [
    "##################################################################################################################\n",
    "#\n",
    "# YouDo:\n",
    "#    1) print the slice of worklist which contains all the items which begin with 3 and no other itemts\n",
    "#       [30, 32, ..., 38]\n",
    "#\n",
    "##################################################################################################################\n",
    "\n",
    "worklist = list(range(0,50,2))\n",
    "print(f'Original worklist: {worklist}')\n",
    "\n",
    "#######################################  BEGIN STUDENT CODE  #####################################################\n",
    "\n",
    "myslice = worklist[30:39]\n",
    "\n",
    "print(f'Thirties Subset: {myslice})\n",
    "\n",
    "\n",
    "\n",
    "#######################################   END STUDENT CODE   #######"
   ]
  },
  {
   "cell_type": "code",
   "execution_count": 16,
   "id": "9b7c3f27-9b27-4900-8987-51325ef2bea3",
   "metadata": {},
   "outputs": [
    {
     "name": "stdout",
     "output_type": "stream",
     "text": [
      "Original worklist: [0, 2, 4, 6, 8, 10, 12, 14, 16, 18, 20, 22, 24, 26, 28, 30, 32, 34, 36, 38, 40, 42, 44, 46, 48]\n",
      "Thirties Subset: [30, 32, 34, 36, 38]\n"
     ]
    }
   ],
   "source": [
    "##################################################################################################################\n",
    "#\n",
    "# YouDo:\n",
    "#    1) print the slice of worklist which contains all the items which begin with 3 and no other itemts\n",
    "#       [30, 32, ..., 38]\n",
    "#\n",
    "##################################################################################################################\n",
    "\n",
    "worklist = list(range(0,50,2))\n",
    "print(f'Original worklist: {worklist}')\n",
    "\n",
    "#######################################  BEGIN STUDENT CODE  #####################################################\n",
    "\n",
    "myslice = worklist[15:20]\n",
    "\n",
    "print(f'Thirties Subset: {myslice}')\n",
    "\n",
    "\n",
    "\n",
    "#######################################   END STUDENT CODE   #######"
   ]
  },
  {
   "cell_type": "code",
   "execution_count": 18,
   "id": "6f4da488-d005-4da5-bc32-7c21ee4b592e",
   "metadata": {},
   "outputs": [
    {
     "data": {
      "text/plain": [
       "{'AllMonths': ['January', 'February', 'March'],\n",
       " 'Jan': 'January',\n",
       " 'jan': 'January',\n",
       " 'JAN': 'January',\n",
       " 'jan.': 'January',\n",
       " 'Feb': 'February',\n",
       " 'Mar': 'March'}"
      ]
     },
     "execution_count": 18,
     "metadata": {},
     "output_type": "execute_result"
    }
   ],
   "source": [
    "dex = dict()\n",
    "dex['AllMonths']=['January', 'February', 'March']\n",
    "dex['Jan']='January'\n",
    "dex['jan']='January'\n",
    "dex['JAN']='January'\n",
    "dex['jan.']='January'\n",
    "dex['Feb']='February'\n",
    "dex['Mar']='March'\n",
    "dex"
   ]
  },
  {
   "cell_type": "code",
   "execution_count": null,
   "id": "f3185610-9c09-4bf1-9ebe-e1ac572c26cb",
   "metadata": {},
   "outputs": [],
   "source": []
  }
 ],
 "metadata": {
  "kernelspec": {
   "display_name": "anaconda-panel-2023.05-py310",
   "language": "python",
   "name": "conda-env-anaconda-panel-2023.05-py310-py"
  },
  "language_info": {
   "codemirror_mode": {
    "name": "ipython",
    "version": 3
   },
   "file_extension": ".py",
   "mimetype": "text/x-python",
   "name": "python",
   "nbconvert_exporter": "python",
   "pygments_lexer": "ipython3",
   "version": "3.11.5"
  }
 },
 "nbformat": 4,
 "nbformat_minor": 5
}
